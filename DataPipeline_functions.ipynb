{
 "cells": [
  {
   "cell_type": "code",
   "execution_count": 0,
   "metadata": {
    "application/vnd.databricks.v1+cell": {
     "cellMetadata": {
      "byteLimit": 2048000,
      "rowLimit": 10000
     },
     "inputWidgets": {},
     "nuid": "9ab9c439-131e-4c46-ace9-6779dded1f85",
     "showTitle": false,
     "title": ""
    }
   },
   "outputs": [],
   "source": [
    "import datetime"
   ]
  },
  {
   "cell_type": "code",
   "execution_count": 0,
   "metadata": {
    "application/vnd.databricks.v1+cell": {
     "cellMetadata": {
      "byteLimit": 2048000,
      "rowLimit": 10000
     },
     "inputWidgets": {},
     "nuid": "74e0b94e-8bb5-41e9-b1f3-9eca1ddce626",
     "showTitle": false,
     "title": ""
    }
   },
   "outputs": [],
   "source": [
    "class Scheduler:\n",
    "    \"\"\" Classe que defini quando as tarefas serão executadas. \"\"\"\n",
    "\n",
    "    def __init__(self, function, start_date: str, nome='', duration=1, trigger_interval=1, skip_fisrt=False):\n",
    "        \"\"\"\n",
    "        ARGUMENTOS\n",
    "        ----------\n",
    "        duration : int\n",
    "            Duração da execução em DIAS\n",
    "        trigger_interval : int\n",
    "            Intervalo entre as execuções em HORAS\n",
    "        \"\"\"\n",
    "\n",
    "        self.nome = nome\n",
    "        self.function = function\n",
    "        # 2023-09-26 to datetime\n",
    "        self.start_date = datetime.datetime.fromisoformat(start_date)\n",
    "        # Dias de processamento\n",
    "        self.duration = datetime.timedelta(days=duration)\n",
    "        # Intervalo entre execuções\n",
    "        self.trigger_interval = datetime.timedelta(hours=trigger_interval)\n",
    "        self.skip_fisrt = skip_fisrt\n",
    "\n",
    "        # Calcula o dia de fim da execução\n",
    "        self.end_date = self.start_date + self.duration\n",
    "\n",
    "    @property\n",
    "    def agenda(self) -> list:\n",
    "        \"\"\" Lista de tuplas com o horário e a função da tarefa a ser executada. \n",
    "\n",
    "        RETURN\n",
    "        ------\n",
    "            List[ Tuple[ datetime, function ] ]\n",
    "                A lista segue a estrutura de PILHA. Os últimos itens são as próximas execuções.\n",
    "        \"\"\"\n",
    "        agenda_list = []\n",
    "        current_time = self.start_date\n",
    "\n",
    "        # Pula a primeira execução\n",
    "        if self.skip_fisrt:\n",
    "            current_time = current_time + self.trigger_interval\n",
    "\n",
    "        # Obtenção de todos os horários até a o fim da execução\n",
    "        while current_time < self.end_date:\n",
    "            agenda_list.append( (current_time, self.function) )\n",
    "            current_time = current_time + self.trigger_interval\n",
    "\n",
    "        return agenda_list[::-1]\n",
    "    \n",
    "\n",
    "\n",
    "class Executor:\n",
    "    \"\"\" Classe de execução do timer e ativação das tarefas agendas. \n",
    "    \n",
    "    EXAMPLE\n",
    "    -------\n",
    "        execs = Executor(tarefa_hourly, tarefa_monthly)\n",
    "        execs.run()\n",
    "    \"\"\"\n",
    "    def __init__(self, *args: list):\n",
    "        # Lista de agendamentos das tarefas\n",
    "        self.agendas = [tarefa.agenda for tarefa in args]\n",
    "        self.tarefas = args\n",
    "\n",
    "    def run(self):\n",
    "        # Inicia a execução contínua do Executor\n",
    "        print('Iniciando execução contínua das tarefas.')\n",
    "        inicio_execucao = datetime.datetime.now()\n",
    "        proximo_minuto = inicio_execucao + datetime.timedelta(minutes=1)\n",
    "\n",
    "        agendas = []\n",
    "        for task in self.agendas:\n",
    "            agendas.extend(task)\n",
    "        agendas = sorted(agendas, reverse=True, key=lambda x: x[0])\n",
    "\n",
    "        while True:\n",
    "            # Granularidade da execução em 1 segundo\n",
    "            time.sleep(1)\n",
    "            now = datetime.datetime.now()\n",
    "\n",
    "            # Sinalização de execução\n",
    "            if now > proximo_minuto:\n",
    "                print(now)\n",
    "                proximo_minuto = now + datetime.timedelta(minutes=1)\n",
    "\n",
    "            \n",
    "            # Obtenção da próxima execução\n",
    "            if len(agendas) > 0:\n",
    "                proxima_execucao = agendas[-1][0]\n",
    "\n",
    "                # Trigger\n",
    "                if proxima_execucao < now:\n",
    "                    print(f'Tarefa agendada às [{proxima_execucao}] em execução. Ativação às {now}')\n",
    "\n",
    "                    # Execução a tarefa\n",
    "                    tarefa = agendas.pop()\n",
    "                    task_function = tarefa[1]\n",
    "                    task_function(proxima_execucao)\n",
    "                    print('Função executada. Scheduler em espera.......\\n')\n",
    "\n",
    "            if len(agendas) == 0:\n",
    "                print('Todas as tarefas executadas! Fim do Executor.')\n",
    "                break"
   ]
  },
  {
   "cell_type": "code",
   "execution_count": 0,
   "metadata": {
    "application/vnd.databricks.v1+cell": {
     "cellMetadata": {},
     "inputWidgets": {},
     "nuid": "c2c134eb-5edb-4e1f-83a6-ac86fb6e06a5",
     "showTitle": false,
     "title": ""
    }
   },
   "outputs": [],
   "source": [
    "def printar(valor):\n",
    "    print(valor)"
   ]
  }
 ],
 "metadata": {
  "application/vnd.databricks.v1+notebook": {
   "dashboards": [],
   "language": "python",
   "notebookMetadata": {
    "pythonIndentUnit": 4
   },
   "notebookName": "DataPipeline_functions",
   "widgets": {}
  }
 },
 "nbformat": 4,
 "nbformat_minor": 0
}
