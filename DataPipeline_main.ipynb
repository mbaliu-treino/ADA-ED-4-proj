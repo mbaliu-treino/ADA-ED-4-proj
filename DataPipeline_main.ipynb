{
 "cells": [
  {
   "cell_type": "markdown",
   "metadata": {
    "application/vnd.databricks.v1+cell": {
     "cellMetadata": {},
     "inputWidgets": {},
     "nuid": "7ac735d0-4222-4dcf-a9c8-3aba2185c6e6",
     "showTitle": false,
     "title": ""
    }
   },
   "source": [
    "# Conexões Externas"
   ]
  },
  {
   "cell_type": "code",
   "execution_count": 0,
   "metadata": {
    "application/vnd.databricks.v1+cell": {
     "cellMetadata": {
      "byteLimit": 2048000,
      "rowLimit": 10000
     },
     "inputWidgets": {},
     "nuid": "ddf530a8-6cc5-4e24-9f7f-0d0b6071c43e",
     "showTitle": false,
     "title": ""
    }
   },
   "outputs": [],
   "source": [
    "%run ./batch_functions"
   ]
  },
  {
   "cell_type": "code",
   "execution_count": 0,
   "metadata": {
    "application/vnd.databricks.v1+cell": {
     "cellMetadata": {
      "byteLimit": 2048000,
      "rowLimit": 10000
     },
     "inputWidgets": {},
     "nuid": "f13b56de-aee5-47c4-99fc-8db1d3ce82d9",
     "showTitle": false,
     "title": ""
    }
   },
   "outputs": [],
   "source": [
    "%run ./DataPipeline_functions"
   ]
  },
  {
   "cell_type": "code",
   "execution_count": 0,
   "metadata": {
    "application/vnd.databricks.v1+cell": {
     "cellMetadata": {
      "byteLimit": 2048000,
      "rowLimit": 10000
     },
     "inputWidgets": {},
     "nuid": "9e0d2091-8c59-4994-8b8d-71d761e92057",
     "showTitle": false,
     "title": ""
    }
   },
   "outputs": [
    {
     "output_type": "stream",
     "name": "stdout",
     "output_type": "stream",
     "text": [
      "Out[160]: False"
     ]
    }
   ],
   "source": [
    "# Limpeza do PROJETO\n",
    "\n",
    "# dbutils.fs.rm('dbfs:/FileStore/proj_4_genomics_sa', True)\n",
    "# dbutils.fs.rm('file:/tmp/proj_raw', True)"
   ]
  },
  {
   "cell_type": "markdown",
   "metadata": {
    "application/vnd.databricks.v1+cell": {
     "cellMetadata": {},
     "inputWidgets": {},
     "nuid": "2c3d2829-e40a-47f9-a4e0-0fa89b479fdd",
     "showTitle": false,
     "title": ""
    }
   },
   "source": [
    "# Orquestração"
   ]
  },
  {
   "cell_type": "markdown",
   "metadata": {
    "application/vnd.databricks.v1+cell": {
     "cellMetadata": {},
     "inputWidgets": {},
     "nuid": "7472acf9-bc8c-4c09-b8d2-74251d362c63",
     "showTitle": false,
     "title": ""
    }
   },
   "source": [
    "<img src=\"https://github.com/mbaliu-treino/ADA-ED-4-proj/blob/main/src/img/PROJ4_ELT_batch.jpg?raw=true\" alt=\"etl\">"
   ]
  },
  {
   "cell_type": "code",
   "execution_count": 0,
   "metadata": {
    "application/vnd.databricks.v1+cell": {
     "cellMetadata": {
      "byteLimit": 2048000,
      "rowLimit": 10000
     },
     "inputWidgets": {},
     "nuid": "fff197ae-414b-43dc-a083-e573b22102fc",
     "showTitle": false,
     "title": ""
    }
   },
   "outputs": [],
   "source": [
    "# Tarefa ETL por hora\n",
    "start_date = datetime.datetime.now().strftime('%Y-%m-%dT%H:%M:%S')\n",
    "\n",
    "tarefa_elt_hourly = Scheduler(\n",
    "    nome = 'Requisição API-News',\n",
    "    function = etl_news,\n",
    "    start_date = start_date,\n",
    "    trigger_interval=1,  # hourly\n",
    "    duration = 3.1  # teste de 3 dias (e 2,4 horas)\n",
    "    )\n",
    "\n",
    "\n",
    "\n",
    "# Tarefa ETL diário\n",
    "\n",
    "tarefa_etl_daily = Scheduler(\n",
    "    nome = 'Consolidação de notícias',\n",
    "    function = etl_consolidacao,\n",
    "    start_date = start_date,\n",
    "    trigger_interval = 24,  # hourly\n",
    "    duration = 3.1,  # teste de 3 dias (e 2,4 horas)\n",
    "    skip_fisrt=False\n",
    "    )\n"
   ]
  },
  {
   "cell_type": "code",
   "execution_count": 0,
   "metadata": {
    "application/vnd.databricks.v1+cell": {
     "cellMetadata": {
      "byteLimit": 2048000,
      "rowLimit": 10000
     },
     "inputWidgets": {},
     "nuid": "7b0063fa-2e37-44ea-b897-65e446968327",
     "showTitle": false,
     "title": ""
    }
   },
   "outputs": [
    {
     "output_type": "stream",
     "name": "stdout",
     "output_type": "stream",
     "text": [
      "Iniciando execução contínua das tarefas.\nTarefa agendada às [2023-10-04 21:43:51] em execução. Ativação às 2023-10-04 21:43:54.084338\nETL de consolidação sendo inicializado...\nConsolidando as notícias por dia, mês e ano....\nConsolidando as notícias por fonte e autor....\nConsolidando as notícias por 3 palavras e dia, mês e ano....\nConclusão de consolidação! Arquivos salvos em [./curated]\n\nFunção executada. Scheduler em espera.......\n\nTarefa agendada às [2023-10-04 21:43:51] em execução. Ativação às 2023-10-04 21:44:29.658481\n\n======== REQUISIÇÕES REST =========\nA requisição possui 7610 notícias em 77 páginas.\nArquivo JSON salvo em DBFS: dbfs:/FileStore/proj_4_genomics_sa/raw/queue/newsapi-get_2023-10-04T21_44_30P1.json\nArquivo JSON salvo em DBFS: dbfs:/FileStore/proj_4_genomics_sa/raw/queue/newsapi-get_2023-10-04T21_44_31P2.json\nArquivo JSON salvo em DBFS: dbfs:/FileStore/proj_4_genomics_sa/raw/queue/newsapi-get_2023-10-04T21_44_31P3.json\nArquivo JSON salvo em DBFS: dbfs:/FileStore/proj_4_genomics_sa/raw/queue/newsapi-get_2023-10-04T21_44_32P4.json\nExtração por REST API concluída: 7610 resultados coletados em 5 páginas.\n\n======== UNIÃO DAS PÁGINAS =========\n1 de 4 arquivos processados\n2 de 4 arquivos processados\n3 de 4 arquivos processados\n4 de 4 arquivos processados\nPáginas juntadas com sucesso em [./validated/api_responses/]\nArquivo movidos para [readed]\n\n======== CARGA DE TODAS NOTÍCIAS EM ARQUIVO UNIFICADO =========\nTamanho do arquivo novo: (400, 9)\nTamanho arquivo unificado: (400, 9)\nTamanho novo arquivo unificado: (399, 9)\nResultado carregado com sucesso\nFunção executada. Scheduler em espera.......\n\n2023-10-04 21:45:16.702097\n2023-10-04 21:46:16.751792\n2023-10-04 21:47:16.799088\n2023-10-04 21:48:16.848930\n2023-10-04 21:49:16.894945\n2023-10-04 21:50:16.947398\n2023-10-04 21:51:16.999373\n2023-10-04 21:52:17.049037\n2023-10-04 21:53:17.098526\n2023-10-04 21:54:17.151961\n2023-10-04 21:55:17.198603\n2023-10-04 21:56:17.250168\n"
     ]
    },
    {
     "output_type": "display_data",
     "data": {
      "text/html": [
       "<style scoped>\n",
       "  .ansiout {\n",
       "    display: block;\n",
       "    unicode-bidi: embed;\n",
       "    white-space: pre-wrap;\n",
       "    word-wrap: break-word;\n",
       "    word-break: break-all;\n",
       "    font-family: \"Source Code Pro\", \"Menlo\", monospace;;\n",
       "    font-size: 13px;\n",
       "    color: #555;\n",
       "    margin-left: 4px;\n",
       "    line-height: 19px;\n",
       "  }\n",
       "</style>"
      ]
     },
     "metadata": {
      "application/vnd.databricks.v1+output": {
       "arguments": {},
       "data": "",
       "errorSummary": "Cancelled",
       "errorTraceType": "html",
       "metadata": {},
       "type": "ipynbError"
      }
     },
     "output_type": "display_data"
    }
   ],
   "source": [
    "tarefa_hourly = tarefa_elt_hourly\n",
    "tarefa_daily = tarefa_etl_daily\n",
    "\n",
    "# Instância do Executor\n",
    "executions = Executor(\n",
    "    tarefa_hourly, \n",
    "    tarefa_daily)\n",
    "\n",
    "# Inicialização da execução\n",
    "executions.run()"
   ]
  },
  {
   "cell_type": "markdown",
   "metadata": {
    "application/vnd.databricks.v1+cell": {
     "cellMetadata": {},
     "inputWidgets": {},
     "nuid": "f2be3cab-29f7-465c-8ea3-8aa58c639178",
     "showTitle": false,
     "title": ""
    }
   },
   "source": [
    "# Testes"
   ]
  },
  {
   "cell_type": "code",
   "execution_count": 0,
   "metadata": {
    "application/vnd.databricks.v1+cell": {
     "cellMetadata": {
      "byteLimit": 2048000,
      "rowLimit": 10000
     },
     "inputWidgets": {},
     "nuid": "bec2a229-4c36-46cf-b475-4a0f94ce31ab",
     "showTitle": false,
     "title": ""
    }
   },
   "outputs": [],
   "source": [
    "# Tarefa ETL por hora\n",
    "start_date = datetime.datetime.now().strftime('%Y-%m-%dT%H:%M:%S')\n",
    "\n",
    "tarefa_1 = Scheduler(\n",
    "    nome = 'Requisição API-News',\n",
    "    function = printar, # etl_news,\n",
    "    start_date = start_date,\n",
    "    trigger_interval=1/60/4,  # =15segundos\n",
    "    duration = 1/24/60*3  # =3min\n",
    "    )\n",
    "\n",
    "\n",
    "\n",
    "# Tarefa ETL diário\n",
    "\n",
    "tarefa_2 = Scheduler(\n",
    "    nome = 'Consolidação de notícias',\n",
    "    function = printar, # etl_consolidacao,\n",
    "    start_date = start_date,\n",
    "    trigger_interval = 1/60,  # =1min\n",
    "    duration = 1/24/60*6,  # =6min\n",
    "    skip_fisrt=True\n",
    "    )\n",
    "\n"
   ]
  },
  {
   "cell_type": "code",
   "execution_count": 0,
   "metadata": {
    "application/vnd.databricks.v1+cell": {
     "cellMetadata": {
      "byteLimit": 2048000,
      "rowLimit": 10000
     },
     "inputWidgets": {},
     "nuid": "1fdc3af2-853c-42d2-8f38-aaeddc88f8ac",
     "showTitle": false,
     "title": ""
    }
   },
   "outputs": [
    {
     "output_type": "stream",
     "name": "stdout",
     "output_type": "stream",
     "text": [
      "Out[49]: [(datetime.datetime(2023, 10, 4, 18, 4, 41),\n  <function __main__.printar(valor)>),\n (datetime.datetime(2023, 10, 4, 18, 4, 26),\n  <function __main__.printar(valor)>),\n (datetime.datetime(2023, 10, 4, 18, 4, 11),\n  <function __main__.printar(valor)>),\n (datetime.datetime(2023, 10, 4, 18, 3, 56),\n  <function __main__.printar(valor)>),\n (datetime.datetime(2023, 10, 4, 18, 3, 41),\n  <function __main__.printar(valor)>),\n (datetime.datetime(2023, 10, 4, 18, 3, 26),\n  <function __main__.printar(valor)>),\n (datetime.datetime(2023, 10, 4, 18, 3, 11),\n  <function __main__.printar(valor)>),\n (datetime.datetime(2023, 10, 4, 18, 2, 56),\n  <function __main__.printar(valor)>),\n (datetime.datetime(2023, 10, 4, 18, 2, 41),\n  <function __main__.printar(valor)>),\n (datetime.datetime(2023, 10, 4, 18, 2, 26),\n  <function __main__.printar(valor)>),\n (datetime.datetime(2023, 10, 4, 18, 2, 11),\n  <function __main__.printar(valor)>),\n (datetime.datetime(2023, 10, 4, 18, 1, 56),\n  <function __main__.printar(valor)>)]"
     ]
    }
   ],
   "source": [
    "# Agenda\n",
    "tarefa_1.agenda"
   ]
  },
  {
   "cell_type": "code",
   "execution_count": 0,
   "metadata": {
    "application/vnd.databricks.v1+cell": {
     "cellMetadata": {
      "byteLimit": 2048000,
      "rowLimit": 10000
     },
     "inputWidgets": {},
     "nuid": "c6018e33-8eb8-404e-8164-c5942c9d23b4",
     "showTitle": false,
     "title": ""
    }
   },
   "outputs": [
    {
     "output_type": "stream",
     "name": "stdout",
     "output_type": "stream",
     "text": [
      "Out[50]: [(datetime.datetime(2023, 10, 4, 18, 6, 56),\n  <function __main__.printar(valor)>),\n (datetime.datetime(2023, 10, 4, 18, 5, 56),\n  <function __main__.printar(valor)>),\n (datetime.datetime(2023, 10, 4, 18, 4, 56),\n  <function __main__.printar(valor)>),\n (datetime.datetime(2023, 10, 4, 18, 3, 56),\n  <function __main__.printar(valor)>),\n (datetime.datetime(2023, 10, 4, 18, 2, 56),\n  <function __main__.printar(valor)>)]"
     ]
    }
   ],
   "source": [
    "# Agenda\n",
    "tarefa_2.agenda"
   ]
  },
  {
   "cell_type": "code",
   "execution_count": 0,
   "metadata": {
    "application/vnd.databricks.v1+cell": {
     "cellMetadata": {
      "byteLimit": 2048000,
      "rowLimit": 10000
     },
     "inputWidgets": {},
     "nuid": "d352faa0-5c96-421f-b685-da98bcbfe147",
     "showTitle": false,
     "title": ""
    }
   },
   "outputs": [
    {
     "output_type": "stream",
     "name": "stdout",
     "output_type": "stream",
     "text": [
      "Iniciando execução contínua das tarefas.\nTarefa agendada às [2023-10-04 18:01:56] em execução. Ativação às 2023-10-04 18:02:04.188996\n2023-10-04 18:01:56\nTarefa agendada às [2023-10-04 18:02:11] em execução. Ativação às 2023-10-04 18:02:11.195167\n2023-10-04 18:02:11\nTarefa agendada às [2023-10-04 18:02:26] em execução. Ativação às 2023-10-04 18:02:26.209360\n2023-10-04 18:02:26\nTarefa agendada às [2023-10-04 18:02:41] em execução. Ativação às 2023-10-04 18:02:41.222973\n2023-10-04 18:02:41\nTarefa agendada às [2023-10-04 18:02:56] em execução. Ativação às 2023-10-04 18:02:56.236492\n2023-10-04 18:02:56\nTarefa agendada às [2023-10-04 18:02:56] em execução. Ativação às 2023-10-04 18:02:57.237213\n2023-10-04 18:02:56\n2023-10-04 18:03:03.243194\nTarefa agendada às [2023-10-04 18:03:11] em execução. Ativação às 2023-10-04 18:03:11.251046\n2023-10-04 18:03:11\nTarefa agendada às [2023-10-04 18:03:26] em execução. Ativação às 2023-10-04 18:03:26.261988\n2023-10-04 18:03:26\nTarefa agendada às [2023-10-04 18:03:41] em execução. Ativação às 2023-10-04 18:03:41.273987\n2023-10-04 18:03:41\n"
     ]
    },
    {
     "output_type": "display_data",
     "data": {
      "text/html": [
       "<style scoped>\n",
       "  .ansiout {\n",
       "    display: block;\n",
       "    unicode-bidi: embed;\n",
       "    white-space: pre-wrap;\n",
       "    word-wrap: break-word;\n",
       "    word-break: break-all;\n",
       "    font-family: \"Source Code Pro\", \"Menlo\", monospace;;\n",
       "    font-size: 13px;\n",
       "    color: #555;\n",
       "    margin-left: 4px;\n",
       "    line-height: 19px;\n",
       "  }\n",
       "</style>"
      ]
     },
     "metadata": {
      "application/vnd.databricks.v1+output": {
       "arguments": {},
       "data": "",
       "errorSummary": "Cancelled",
       "errorTraceType": "html",
       "metadata": {},
       "type": "ipynbError"
      }
     },
     "output_type": "display_data"
    }
   ],
   "source": [
    "# Instância do Executor\n",
    "executions = Executor(\n",
    "    tarefa_1, \n",
    "    tarefa_2)\n",
    "\n",
    "# Inicialização da execução\n",
    "executions.run()"
   ]
  }
 ],
 "metadata": {
  "application/vnd.databricks.v1+notebook": {
   "dashboards": [],
   "language": "python",
   "notebookMetadata": {
    "pythonIndentUnit": 4
   },
   "notebookName": "DataPipeline_main",
   "widgets": {}
  }
 },
 "nbformat": 4,
 "nbformat_minor": 0
}
